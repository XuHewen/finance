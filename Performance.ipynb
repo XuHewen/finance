{
 "cells": [
  {
   "cell_type": "code",
   "execution_count": 28,
   "metadata": {
    "collapsed": false
   },
   "outputs": [
    {
     "name": "stdout",
     "output_type": "stream",
     "text": [
      "[('f6', 0.021125396092732746), ('f5', 0.027657349904378254), ('f4', 0.10832730929056804), ('f2', 0.4631369908650716), ('f1', 0.518168052037557), ('f3', 16.550527334213257)]\n",
      "function: f6, av.time sec：   0.02113, relative:    1.0\n",
      "function: f5, av.time sec：   0.02766, relative:    1.3\n",
      "function: f4, av.time sec：   0.10833, relative:    5.1\n",
      "function: f2, av.time sec：   0.46314, relative:   21.9\n",
      "function: f1, av.time sec：   0.51817, relative:   24.5\n",
      "function: f3, av.time sec：  16.55053, relative:  783.4\n"
     ]
    }
   ],
   "source": [
    "from math import *\n",
    "from timeit import timeit\n",
    "\n",
    "def f(x):\n",
    "    return abs(cos(x))**0.5 + sin(2 + 3*x)\n",
    "\n",
    "I = 500000\n",
    "a_py = range(I)\n",
    "\n",
    "def f1(a):\n",
    "    res = []\n",
    "    for x in a:\n",
    "        res.append(f(x))\n",
    "    return res\n",
    "\n",
    "def f2(a):\n",
    "    return [f(x) for x in a]\n",
    "\n",
    "def f3(a):\n",
    "    ex = 'abs(cos(x))**0.5 + sin(2 + 3*x)'\n",
    "    return [eval(ex) for x in a]\n",
    "\n",
    "import numpy as np\n",
    "a_np = np.arange(I)\n",
    "def f4(a):\n",
    "    return (np.abs(np.cos(a))**0.5 + np.sin(2 + 3*a))\n",
    "\n",
    "import numexpr as ne\n",
    "def f5(a):\n",
    "    ex = 'abs(cos(a))**0.5 + sin(2+3*a)'\n",
    "    ne.set_num_threads(1)\n",
    "    return ne.evaluate(ex)\n",
    "def f6(a):\n",
    "    ex = 'abs(cos(a))**0.5 + sin(2+3*a)'\n",
    "    ne.set_num_threads(16)\n",
    "    return ne.evaluate(ex)\n",
    "\n",
    "def perf_comp_data(func_list, data_list, rep=3, number=1):\n",
    "    from timeit import repeat\n",
    "    res_list = {}\n",
    "    for key,name in enumerate(func_list):\n",
    "        stmt = name + '(' + data_list[key] +')'\n",
    "        setup = \"from __main__ import \" + name + ','\\\n",
    "                                        + data_list[key]\n",
    "        results = repeat(stmt=stmt, setup=setup, \n",
    "                         repeat=rep, number=number)\n",
    "        \n",
    "        res_list[name] = sum(results) / rep\n",
    "    res_sort = sorted(res_list.iteritems(), key=lambda (k,v):(v,k))\n",
    "    print res_sort\n",
    "    for item in res_sort:\n",
    "        rel = item[1] / res_sort[0][1]\n",
    "        print 'function: ' + item[0] +\\\n",
    "                ', av.time sec： %9.5f, ' % item[1] \\\n",
    "                + 'relative: %6.1f' % rel\n",
    "                \n",
    "func_list = ['f1','f2','f3','f4','f5','f6']\n",
    "data_list = ['a_py','a_py','a_py','a_np','a_np','a_np']\n",
    "perf_comp_data(func_list, data_list)\n",
    "\n"
   ]
  }
 ],
 "metadata": {
  "kernelspec": {
   "display_name": "Python 2",
   "language": "python",
   "name": "python2"
  },
  "language_info": {
   "codemirror_mode": {
    "name": "ipython",
    "version": 2
   },
   "file_extension": ".py",
   "mimetype": "text/x-python",
   "name": "python",
   "nbconvert_exporter": "python",
   "pygments_lexer": "ipython2",
   "version": "2.7.11"
  }
 },
 "nbformat": 4,
 "nbformat_minor": 0
}
