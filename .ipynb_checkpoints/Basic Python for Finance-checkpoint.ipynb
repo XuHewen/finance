{
 "cells": [
  {
   "cell_type": "code",
   "execution_count": 3,
   "metadata": {
    "collapsed": false
   },
   "outputs": [
    {
     "name": "stdout",
     "output_type": "stream",
     "text": [
      "('age', 25)\n",
      "('name', 'xu')\n",
      "('age', 25)\n",
      "('name', 'xu')\n",
      "25\n",
      "xu\n",
      "0 | age\n",
      "1 | name\n"
     ]
    }
   ],
   "source": [
    "def even(x):\n",
    "    return x%2 == 0\n",
    "\n",
    "print map(even, range(10))\n",
    "\n",
    "print map(lambda x: x**2, range(10))\n",
    "\n",
    "print filter(even, range(10))\n",
    "\n",
    "print reduce(lambda x, y: x+y, range(10))\n",
    "\n",
    "d = {\n",
    "    'name': 'xu',\n",
    "    'age': 25\n",
    "    }\n",
    "print d\n",
    "print d.keys()\n",
    "print d.values()\n",
    "print d.items()\n",
    "\n",
    "for item in d.items():\n",
    "    print item\n",
    "    \n",
    "for item in d.iteritems():\n",
    "    print item\n",
    "    \n",
    "for value in d.itervalues():\n",
    "    print value\n",
    "\n",
    "for key, value in enumerate(d):\n",
    "    print key, \"|\", value\n",
    "\n",
    "\n",
    "\n"
   ]
  },
  {
   "cell_type": "code",
   "execution_count": 39,
   "metadata": {
    "collapsed": false
   },
   "outputs": [],
   "source": [
    "import numpy as np\n",
    "import matplotlib.pyplot as plt\n",
    "\n",
    "np.random.seed(1000)\n",
    "\n",
    "y = np.random.standard_normal(100)\n",
    "x = len(y)\n",
    "plt.plot(range(x),y)\n",
    "plt.grid(True)\n",
    "plt.axis(\"tight\")\n",
    "# plt.show()\n",
    "\n",
    "y = np.random.standard_normal((20,2)).cumsum(axis=0)\n",
    "plt.figure(figsize=(7, 4))\n",
    "plt.plot(y, lw=1.5)\n",
    "plt.plot(y, 'ro')\n",
    "plt.grid(True)\n",
    "plt.axis('tight')\n",
    "# plt.show()\n",
    "\n",
    "######################################################\n",
    "from matplotlib.patches import Polygon\n",
    "\n",
    "def func(x):\n",
    "    return 0.5 * np.exp(x) + 1\n",
    "\n",
    "a, b = 0.5, 1.5\n",
    "x = np.linspace(0,2)\n",
    "y = func(x)\n",
    "\n",
    "fig, ax = plt.subplots(figsize=(7,5))\n",
    "plt.plot(x, y, 'b', linewidth=2)\n",
    "plt.ylim(ymin=0)\n",
    "\n",
    "Ix = np.linspace(a, b)\n",
    "Iy = func(Ix)\n",
    "verts = [(a,0)] + list(zip(Ix, Iy)) +[(b, 0)]\n",
    "poly = Polygon(verts, facecolor='0.7', edgecolor='0.5')\n",
    "ax.add_patch(poly)\n",
    "\n",
    "plt.text(0.5*(a+b), 1, r\"$\\int_a^b f(x) \\mathrm{d}x$\",\n",
    "        horizontalalignment='center', fontsize=20)\n",
    "plt.figtext(0.9, 0.075, '$x$')\n",
    "plt.figtext(0.075, 0.9, '$f(x)$')\n",
    "ax.set_xticks((0, a,b))\n",
    "ax.set_xticklabels((0, '$a$', '$b$'))\n",
    "ax.set_yticks([func(a), func(b)])\n",
    "ax.set_yticklabels(('$f(a)$', '$f(b)$'))\n",
    "plt.grid(True)\n",
    "plt.show()\n",
    "\n",
    "###################################################"
   ]
  },
  {
   "cell_type": "code",
   "execution_count": null,
   "metadata": {
    "collapsed": true
   },
   "outputs": [],
   "source": []
  }
 ],
 "metadata": {
  "kernelspec": {
   "display_name": "Python 2",
   "language": "python",
   "name": "python2"
  },
  "language_info": {
   "codemirror_mode": {
    "name": "ipython",
    "version": 2
   },
   "file_extension": ".py",
   "mimetype": "text/x-python",
   "name": "python",
   "nbconvert_exporter": "python",
   "pygments_lexer": "ipython2",
   "version": "2.7.11"
  }
 },
 "nbformat": 4,
 "nbformat_minor": 0
}
